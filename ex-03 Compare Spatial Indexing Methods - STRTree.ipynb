{
 "cells": [
  {
   "cell_type": "markdown",
   "id": "210aea2f",
   "metadata": {},
   "source": [
    "# ex-03 Compare Spatial Indexing Methods - STRTree\n",
    "\n",
    "When it comes to query spatial data at scale, there’s no concept more useful and important than a spatial index. Spatial indices are a family of algorithms that arrange geometric data for efficient search. For example, check if a point within a polygon(s).\n",
    "\n",
    "Within the ecosystem of geopandas, there are two spatial indexing methods available:\n",
    "- [R-Tree](https://en.wikipedia.org/wiki/R-tree)\n",
    "> R-trees are tree data structures used for spatial access methods, i.e., for indexing multi-dimensional information such as geographical coordinates, rectangles or polygons. \n",
    "\n",
    "- [STRTree](https://pygeos.readthedocs.io/en/latest/strtree.html)\n",
    "> A query-only R-tree created using the Sort-Tile-Recursive (STR) algorithm. For two-dimensional spatial data. The STR packed R-tree is simple to implement and maximizes space utilization; that is, as many leaves as possible are filled to capacity. \n",
    "\n",
    "We will compare these two methods in this and next tutorials. The trees look like as the following image.\n",
    "<img  src='img/rtree.png'>\n",
    "Image is downloaded from https://github.com/tidwall/rtree/blob/master/cities.png"
   ]
  },
  {
   "cell_type": "markdown",
   "id": "0a844300",
   "metadata": {},
   "source": [
    "## 1 Import libs"
   ]
  },
  {
   "cell_type": "code",
   "execution_count": 5,
   "id": "41e90f2a",
   "metadata": {},
   "outputs": [],
   "source": [
    "import itertools\n",
    "import numpy as np\n",
    "import pandas as pd \n",
    "import geopandas as gpd\n",
    "from shapely.geometry import Point\n",
    "\n",
    "import matplotlib.pyplot as plt\n",
    "%matplotlib inline"
   ]
  },
  {
   "cell_type": "markdown",
   "id": "08d3f744",
   "metadata": {},
   "source": [
    "## 2 Prepare data\n",
    "\n",
    "- Read global map"
   ]
  },
  {
   "cell_type": "code",
   "execution_count": 2,
   "id": "63d97082",
   "metadata": {},
   "outputs": [],
   "source": [
    "df_new = gpd.read_parquet('data/gadm404_Level1.parquet')"
   ]
  },
  {
   "cell_type": "markdown",
   "id": "b055e63c",
   "metadata": {},
   "source": [
    "- Make some fake points (1000 points)"
   ]
  },
  {
   "cell_type": "code",
   "execution_count": 3,
   "id": "59908d20",
   "metadata": {},
   "outputs": [
    {
     "data": {
      "text/plain": [
       "1000"
      ]
     },
     "execution_count": 3,
     "metadata": {},
     "output_type": "execute_result"
    }
   ],
   "source": [
    "s = gpd.GeoSeries(gpd.points_from_xy([-149.955038, -155.623983, 28.174123, \n",
    "                                      -53.701103, 10.800129,  116.372710,\n",
    "                                      174.783448, 175.27606, 147.352620,\n",
    "                                      -176.474764\n",
    "                                     ], \n",
    "                                     [21.777515, 19.619468,  -32.321729, \n",
    "                                      -10.711625,  62.435156, 39.966970,\n",
    "                                      -36.889234, -37.768188, -42.016550,\n",
    "                                      -44.021665,\n",
    "                                     ]))\n",
    "\n",
    "a = [s] * 100\n",
    "ss = list(itertools.chain(*a))\n",
    "ss = gpd.GeoSeries(ss)\n",
    "len(ss)"
   ]
  },
  {
   "cell_type": "markdown",
   "id": "859ab76e",
   "metadata": {},
   "source": [
    "## 3 Points in Polygons (PIPs)\n",
    "\n",
    "- Check Spatial Indexing Method"
   ]
  },
  {
   "cell_type": "code",
   "execution_count": 4,
   "id": "fb095705",
   "metadata": {},
   "outputs": [
    {
     "data": {
      "text/plain": [
       "<geopandas.sindex.PyGEOSSTRTreeIndex at 0x281cb5067c0>"
      ]
     },
     "execution_count": 4,
     "metadata": {},
     "output_type": "execute_result"
    }
   ],
   "source": [
    "ssindex = df_new.sindex\n",
    "ssindex"
   ]
  },
  {
   "cell_type": "markdown",
   "id": "349fe55b",
   "metadata": {},
   "source": [
    "Once the operationof df_new.sindex finished, the spatial index was created. Now current index is ***STRTree***, which is from PyGEOSSTRTreeIndex. Therefore, the package of pygeos is installed on your computer, the default index is ***STRTree***."
   ]
  },
  {
   "cell_type": "markdown",
   "id": "69ce34b8",
   "metadata": {},
   "source": [
    "#### Check the speed of PIPs"
   ]
  },
  {
   "cell_type": "code",
   "execution_count": 6,
   "id": "108c6e3d",
   "metadata": {},
   "outputs": [
    {
     "name": "stdout",
     "output_type": "stream",
     "text": [
      "CPU times: total: 1min 29s\n",
      "Wall time: 1min 29s\n"
     ]
    }
   ],
   "source": [
    "%%time\n",
    "idx = ssindex.query_bulk(ss, predicate=\"within\").T"
   ]
  },
  {
   "cell_type": "markdown",
   "id": "01326d73",
   "metadata": {},
   "source": [
    "The query results only list the points over land."
   ]
  },
  {
   "cell_type": "code",
   "execution_count": 8,
   "id": "96351d49",
   "metadata": {},
   "outputs": [
    {
     "data": {
      "text/html": [
       "<div>\n",
       "<style scoped>\n",
       "    .dataframe tbody tr th:only-of-type {\n",
       "        vertical-align: middle;\n",
       "    }\n",
       "\n",
       "    .dataframe tbody tr th {\n",
       "        vertical-align: top;\n",
       "    }\n",
       "\n",
       "    .dataframe thead th {\n",
       "        text-align: right;\n",
       "    }\n",
       "</style>\n",
       "<table border=\"1\" class=\"dataframe\">\n",
       "  <thead>\n",
       "    <tr style=\"text-align: right;\">\n",
       "      <th></th>\n",
       "      <th>State</th>\n",
       "      <th>Country</th>\n",
       "      <th>latitude</th>\n",
       "      <th>longitude</th>\n",
       "    </tr>\n",
       "  </thead>\n",
       "  <tbody>\n",
       "    <tr>\n",
       "      <th>1</th>\n",
       "      <td>Hawaii</td>\n",
       "      <td>United States</td>\n",
       "      <td>19.619468</td>\n",
       "      <td>-155.623983</td>\n",
       "    </tr>\n",
       "    <tr>\n",
       "      <th>2</th>\n",
       "      <td>Eastern Cape</td>\n",
       "      <td>South Africa</td>\n",
       "      <td>-32.321729</td>\n",
       "      <td>28.174123</td>\n",
       "    </tr>\n",
       "    <tr>\n",
       "      <th>3</th>\n",
       "      <td>Mato Grosso</td>\n",
       "      <td>Brazil</td>\n",
       "      <td>-10.711625</td>\n",
       "      <td>-53.701103</td>\n",
       "    </tr>\n",
       "    <tr>\n",
       "      <th>4</th>\n",
       "      <td>Hedmark</td>\n",
       "      <td>Norway</td>\n",
       "      <td>62.435156</td>\n",
       "      <td>10.800129</td>\n",
       "    </tr>\n",
       "    <tr>\n",
       "      <th>5</th>\n",
       "      <td>Beijing</td>\n",
       "      <td>China</td>\n",
       "      <td>39.966970</td>\n",
       "      <td>116.372710</td>\n",
       "    </tr>\n",
       "    <tr>\n",
       "      <th>...</th>\n",
       "      <td>...</td>\n",
       "      <td>...</td>\n",
       "      <td>...</td>\n",
       "      <td>...</td>\n",
       "    </tr>\n",
       "    <tr>\n",
       "      <th>995</th>\n",
       "      <td>Beijing</td>\n",
       "      <td>China</td>\n",
       "      <td>39.966970</td>\n",
       "      <td>116.372710</td>\n",
       "    </tr>\n",
       "    <tr>\n",
       "      <th>996</th>\n",
       "      <td>Auckland</td>\n",
       "      <td>New Zealand</td>\n",
       "      <td>-36.889234</td>\n",
       "      <td>174.783448</td>\n",
       "    </tr>\n",
       "    <tr>\n",
       "      <th>997</th>\n",
       "      <td>Waikato</td>\n",
       "      <td>New Zealand</td>\n",
       "      <td>-37.768188</td>\n",
       "      <td>175.276060</td>\n",
       "    </tr>\n",
       "    <tr>\n",
       "      <th>998</th>\n",
       "      <td>Tasmania</td>\n",
       "      <td>Australia</td>\n",
       "      <td>-42.016550</td>\n",
       "      <td>147.352620</td>\n",
       "    </tr>\n",
       "    <tr>\n",
       "      <th>999</th>\n",
       "      <td>Chatham Islands</td>\n",
       "      <td>New Zealand</td>\n",
       "      <td>-44.021665</td>\n",
       "      <td>-176.474764</td>\n",
       "    </tr>\n",
       "  </tbody>\n",
       "</table>\n",
       "<p>900 rows × 4 columns</p>\n",
       "</div>"
      ],
      "text/plain": [
       "               State        Country   latitude   longitude\n",
       "1             Hawaii  United States  19.619468 -155.623983\n",
       "2       Eastern Cape   South Africa -32.321729   28.174123\n",
       "3        Mato Grosso         Brazil -10.711625  -53.701103\n",
       "4            Hedmark         Norway  62.435156   10.800129\n",
       "5            Beijing          China  39.966970  116.372710\n",
       "..               ...            ...        ...         ...\n",
       "995          Beijing          China  39.966970  116.372710\n",
       "996         Auckland    New Zealand -36.889234  174.783448\n",
       "997          Waikato    New Zealand -37.768188  175.276060\n",
       "998         Tasmania      Australia -42.016550  147.352620\n",
       "999  Chatham Islands    New Zealand -44.021665 -176.474764\n",
       "\n",
       "[900 rows x 4 columns]"
      ]
     },
     "execution_count": 8,
     "metadata": {},
     "output_type": "execute_result"
    }
   ],
   "source": [
    "land_points = ss.iloc[idx[:, 0]]\n",
    "lons = [ew_point.coords.xy[0][0] for ipt, ew_point in enumerate(land_points)]\n",
    "lats = [ew_point.coords.xy[1][0] for ipt, ew_point in enumerate(land_points)]\n",
    "\n",
    "df_land_points = df_new[['State', 'Country']].iloc[idx[:, 1]]\n",
    "df_land_points['latitude']  = lats\n",
    "df_land_points['longitude'] = lons\n",
    "\n",
    "df_land_points.index = idx[:, 0]\n",
    "df_land_points"
   ]
  },
  {
   "cell_type": "code",
   "execution_count": null,
   "id": "82dc90c4",
   "metadata": {},
   "outputs": [],
   "source": []
  }
 ],
 "metadata": {
  "kernelspec": {
   "display_name": "Python 3 (ipykernel)",
   "language": "python",
   "name": "python3"
  },
  "language_info": {
   "codemirror_mode": {
    "name": "ipython",
    "version": 3
   },
   "file_extension": ".py",
   "mimetype": "text/x-python",
   "name": "python",
   "nbconvert_exporter": "python",
   "pygments_lexer": "ipython3",
   "version": "3.8.13"
  }
 },
 "nbformat": 4,
 "nbformat_minor": 5
}
