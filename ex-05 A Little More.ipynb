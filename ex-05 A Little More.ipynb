{
 "cells": [
  {
   "cell_type": "markdown",
   "id": "9640343e",
   "metadata": {},
   "source": [
    "# ex-05 A Little More\n",
    "\n",
    "In the preceding tutorials, we introducted how to build a PIP service with FastAPI step by step, mainly\n",
    "- compared the reading speed from different spatial formats;\n",
    "- compared two spatial indexing techniques - RTree and STRTree;\n",
    "- depoly the PIP service to API with FastAPI.\n",
    "\n",
    "Almost all steps are implemented with the python package of geopandas. If you are interested, you can easily have a try. For example, we only touch the predicate of ***within***. In fact, you can try another option of [***contains***](https://geopandas.org/en/stable/docs/reference/api/geopandas.sindex.SpatialIndex.query_bulk.html), which should finish the PIP task as ***within***. In addition, we found that the RTree is faster than STRTree in our PIP case. However, some comparisons pointed out that STRTree is faster than RTree in many cases. Therefore, it also worth a dedicated or extensive comparison before you apply them in your cases (e.g., case by case)."
   ]
  },
  {
   "cell_type": "markdown",
   "id": "3987eb1e",
   "metadata": {},
   "source": [
    "In our case, the polygons are static from a world map, while the points are dynamic from the choices by end-users. But how about reversing the case? I did a simple comparison, the STRTree showed an amazing performance. The tutorical is not presented here. I think you can take it as an excercise and have a try by yourself :). In a word, it depends on a real application requirement to select an approprate spatial indexing method."
   ]
  },
  {
   "cell_type": "markdown",
   "id": "8dc8bf92",
   "metadata": {},
   "source": [
    "To satisfy with parallel and cocurrent API requests, the FastAPI preopen several sub-processes, each of which will execute the PIP function. If the worldmap data is loaded under each request, it means that many processes will simultanously read the data file. It might be an issue as each reading may take about 3 seconds. To solve this issue, we let the FastAPI preload the worldmap into memory. Thus, if your FastAPI opens 5 sub-processes, the data will be also loaded into them. So our PIP service is quite memory-consuming. My recommendation is not to use the default number of workers in FastAPI. Using 2~3 workers should be fine for most of cases."
   ]
  },
  {
   "cell_type": "markdown",
   "id": "cb9580d2",
   "metadata": {},
   "source": [
    "In this tutorials, we only apply the geopandas package as it is simple to apply. However, there are other options. For example,if your computer supports GPU computing, you can try cuSpatial, which also provides functionality for fast GPU-based spatial index and join functions via point-in-polygon. It was said that it might be at least 10X faster. Another option is to apply Go or Rust to develop the PIP function. Go has rich support for concurrency using goroutines and channels."
   ]
  },
  {
   "cell_type": "markdown",
   "id": "a3170612",
   "metadata": {},
   "source": [
    "## References\n",
    "\n",
    "https://geopandas.org/en/stable/docs/reference/api/geopandas.sindex.SpatialIndex.query_bulk.html\n",
    "\n",
    "https://www.golang-book.com/books/intro/10\n",
    "\n",
    "https://www.rust-lang.org/\n",
    "\n",
    "https://docs.rapids.ai/api/cuspatial/stable/"
   ]
  },
  {
   "cell_type": "code",
   "execution_count": null,
   "id": "ab32cd34",
   "metadata": {},
   "outputs": [],
   "source": [
    "\n"
   ]
  }
 ],
 "metadata": {
  "kernelspec": {
   "display_name": "Python 3 (ipykernel)",
   "language": "python",
   "name": "python3"
  },
  "language_info": {
   "codemirror_mode": {
    "name": "ipython",
    "version": 3
   },
   "file_extension": ".py",
   "mimetype": "text/x-python",
   "name": "python",
   "nbconvert_exporter": "python",
   "pygments_lexer": "ipython3",
   "version": "3.9.13"
  }
 },
 "nbformat": 4,
 "nbformat_minor": 5
}
