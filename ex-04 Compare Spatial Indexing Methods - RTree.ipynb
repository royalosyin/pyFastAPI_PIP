{
 "cells": [
  {
   "cell_type": "markdown",
   "id": "7b1abfeb",
   "metadata": {},
   "source": [
    "# ex-04 Compare Spatial Indexing Methods - RTree\n",
    "\n",
    "When it comes to query spatial data at scale, there’s no concept more useful and important than a spatial index. Spatial indices are a family of algorithms that arrange geometric data for efficient search. For example, check if a point within a polygon(s).\n",
    "\n",
    "Within the ecosystem of geopandas, there are two spatial indexing methods available:\n",
    "- [R-Tree](https://en.wikipedia.org/wiki/R-tree)\n",
    "> R-trees are tree data structures used for spatial access methods, i.e., for indexing multi-dimensional information such as geographical coordinates, rectangles or polygons. \n",
    "\n",
    "- [STRTree](https://pygeos.readthedocs.io/en/latest/strtree.html)\n",
    "> A query-only R-tree created using the Sort-Tile-Recursive (STR) algorithm. For two-dimensional spatial data. The STR packed R-tree is simple to implement and maximizes space utilization; that is, as many leaves as possible are filled to capacity. \n",
    "\n",
    "The trees look like as the following image.\n",
    "<img  src='img/rtree.png'>\n",
    "Image is downloaded from https://github.com/tidwall/rtree/blob/master/cities.png"
   ]
  },
  {
   "cell_type": "markdown",
   "id": "e6f141c2",
   "metadata": {},
   "source": [
    "## 1 Import libs"
   ]
  },
  {
   "cell_type": "code",
   "execution_count": 1,
   "id": "472623be",
   "metadata": {},
   "outputs": [],
   "source": [
    "import itertools\n",
    "import numpy as np\n",
    "import pandas as pd \n",
    "import geopandas as gpd\n",
    "from shapely.geometry import Point\n",
    "\n",
    "import matplotlib.pyplot as plt\n",
    "%matplotlib inline"
   ]
  },
  {
   "cell_type": "markdown",
   "id": "a169c11f",
   "metadata": {},
   "source": [
    "It is worth noting:\n",
    "\n",
    "Once the operationof df_new.sindex finished, the spatial index was created. Now current index is ***STRTree***, which is from PyGEOSSTRTreeIndex. Therefore, the package of pygeos is installed on your computer, the default index is ***STRTree***. \n",
    "\n",
    "To use R-Tree, we should disable ***pygeos*** first before reading data. Thus, geopands will apply the rtree as the default spatial index."
   ]
  },
  {
   "cell_type": "code",
   "execution_count": 2,
   "id": "115ebbbe",
   "metadata": {},
   "outputs": [],
   "source": [
    "gpd.options.use_pygeos = False"
   ]
  },
  {
   "cell_type": "markdown",
   "id": "d8c8d344",
   "metadata": {},
   "source": [
    "## 2 Prepare data\n",
    "\n",
    "- Read global map"
   ]
  },
  {
   "cell_type": "code",
   "execution_count": 3,
   "id": "66c31160",
   "metadata": {},
   "outputs": [],
   "source": [
    "df_new = gpd.read_parquet('data/gadm404_Level1.parquet')"
   ]
  },
  {
   "cell_type": "markdown",
   "id": "228628dc",
   "metadata": {},
   "source": [
    "- Make some fake points (1000 points)"
   ]
  },
  {
   "cell_type": "code",
   "execution_count": 4,
   "id": "4bc94160",
   "metadata": {},
   "outputs": [
    {
     "data": {
      "text/plain": [
       "1000"
      ]
     },
     "execution_count": 4,
     "metadata": {},
     "output_type": "execute_result"
    }
   ],
   "source": [
    "s = gpd.GeoSeries(gpd.points_from_xy([-149.955038, -155.623983, 28.174123, \n",
    "                                      -53.701103, 10.800129,  116.372710,\n",
    "                                      174.783448, 175.27606, 147.352620,\n",
    "                                      -176.474764\n",
    "                                     ], \n",
    "                                     [21.777515, 19.619468,  -32.321729, \n",
    "                                      -10.711625,  62.435156, 39.966970,\n",
    "                                      -36.889234, -37.768188, -42.016550,\n",
    "                                      -44.021665,\n",
    "                                     ]))\n",
    "\n",
    "a = [s] * 100\n",
    "ss = list(itertools.chain(*a))\n",
    "ss = gpd.GeoSeries(ss)\n",
    "len(ss)"
   ]
  },
  {
   "cell_type": "markdown",
   "id": "6117da69",
   "metadata": {},
   "source": [
    "## 3 Points in Polygons (PIPs)\n",
    "\n",
    "- Check Spatial Indexing Method"
   ]
  },
  {
   "cell_type": "code",
   "execution_count": 5,
   "id": "7d594eb9",
   "metadata": {},
   "outputs": [
    {
     "data": {
      "text/plain": [
       "rtree.index.Index(bounds=[-179.99999999999994, -59.48428000099989, 180.00000000000014, 83.65833300000008], size=70)"
      ]
     },
     "execution_count": 5,
     "metadata": {},
     "output_type": "execute_result"
    }
   ],
   "source": [
    "ssindex = df_new.sindex\n",
    "ssindex"
   ]
  },
  {
   "cell_type": "markdown",
   "id": "ddb4529a",
   "metadata": {},
   "source": [
    "#### Check the speed of PIPs"
   ]
  },
  {
   "cell_type": "code",
   "execution_count": 6,
   "id": "29dc287b",
   "metadata": {},
   "outputs": [
    {
     "name": "stdout",
     "output_type": "stream",
     "text": [
      "CPU times: total: 266 ms\n",
      "Wall time: 252 ms\n"
     ]
    }
   ],
   "source": [
    "%%time\n",
    "idx = ssindex.query_bulk(ss, predicate=\"within\").T"
   ]
  },
  {
   "cell_type": "markdown",
   "id": "47e77af0",
   "metadata": {},
   "source": [
    "The query results only list the points over land."
   ]
  },
  {
   "cell_type": "code",
   "execution_count": 7,
   "id": "c5fed3de",
   "metadata": {},
   "outputs": [
    {
     "data": {
      "text/html": [
       "<div>\n",
       "<style scoped>\n",
       "    .dataframe tbody tr th:only-of-type {\n",
       "        vertical-align: middle;\n",
       "    }\n",
       "\n",
       "    .dataframe tbody tr th {\n",
       "        vertical-align: top;\n",
       "    }\n",
       "\n",
       "    .dataframe thead th {\n",
       "        text-align: right;\n",
       "    }\n",
       "</style>\n",
       "<table border=\"1\" class=\"dataframe\">\n",
       "  <thead>\n",
       "    <tr style=\"text-align: right;\">\n",
       "      <th></th>\n",
       "      <th>State</th>\n",
       "      <th>Country</th>\n",
       "      <th>latitude</th>\n",
       "      <th>longitude</th>\n",
       "    </tr>\n",
       "  </thead>\n",
       "  <tbody>\n",
       "    <tr>\n",
       "      <th>1</th>\n",
       "      <td>Hawaii</td>\n",
       "      <td>United States</td>\n",
       "      <td>19.619468</td>\n",
       "      <td>-155.623983</td>\n",
       "    </tr>\n",
       "    <tr>\n",
       "      <th>2</th>\n",
       "      <td>Eastern Cape</td>\n",
       "      <td>South Africa</td>\n",
       "      <td>-32.321729</td>\n",
       "      <td>28.174123</td>\n",
       "    </tr>\n",
       "    <tr>\n",
       "      <th>3</th>\n",
       "      <td>Mato Grosso</td>\n",
       "      <td>Brazil</td>\n",
       "      <td>-10.711625</td>\n",
       "      <td>-53.701103</td>\n",
       "    </tr>\n",
       "    <tr>\n",
       "      <th>4</th>\n",
       "      <td>Hedmark</td>\n",
       "      <td>Norway</td>\n",
       "      <td>62.435156</td>\n",
       "      <td>10.800129</td>\n",
       "    </tr>\n",
       "    <tr>\n",
       "      <th>5</th>\n",
       "      <td>Beijing</td>\n",
       "      <td>China</td>\n",
       "      <td>39.966970</td>\n",
       "      <td>116.372710</td>\n",
       "    </tr>\n",
       "    <tr>\n",
       "      <th>...</th>\n",
       "      <td>...</td>\n",
       "      <td>...</td>\n",
       "      <td>...</td>\n",
       "      <td>...</td>\n",
       "    </tr>\n",
       "    <tr>\n",
       "      <th>995</th>\n",
       "      <td>Beijing</td>\n",
       "      <td>China</td>\n",
       "      <td>39.966970</td>\n",
       "      <td>116.372710</td>\n",
       "    </tr>\n",
       "    <tr>\n",
       "      <th>996</th>\n",
       "      <td>Auckland</td>\n",
       "      <td>New Zealand</td>\n",
       "      <td>-36.889234</td>\n",
       "      <td>174.783448</td>\n",
       "    </tr>\n",
       "    <tr>\n",
       "      <th>997</th>\n",
       "      <td>Waikato</td>\n",
       "      <td>New Zealand</td>\n",
       "      <td>-37.768188</td>\n",
       "      <td>175.276060</td>\n",
       "    </tr>\n",
       "    <tr>\n",
       "      <th>998</th>\n",
       "      <td>Tasmania</td>\n",
       "      <td>Australia</td>\n",
       "      <td>-42.016550</td>\n",
       "      <td>147.352620</td>\n",
       "    </tr>\n",
       "    <tr>\n",
       "      <th>999</th>\n",
       "      <td>Chatham Islands</td>\n",
       "      <td>New Zealand</td>\n",
       "      <td>-44.021665</td>\n",
       "      <td>-176.474764</td>\n",
       "    </tr>\n",
       "  </tbody>\n",
       "</table>\n",
       "<p>900 rows × 4 columns</p>\n",
       "</div>"
      ],
      "text/plain": [
       "               State        Country   latitude   longitude\n",
       "1             Hawaii  United States  19.619468 -155.623983\n",
       "2       Eastern Cape   South Africa -32.321729   28.174123\n",
       "3        Mato Grosso         Brazil -10.711625  -53.701103\n",
       "4            Hedmark         Norway  62.435156   10.800129\n",
       "5            Beijing          China  39.966970  116.372710\n",
       "..               ...            ...        ...         ...\n",
       "995          Beijing          China  39.966970  116.372710\n",
       "996         Auckland    New Zealand -36.889234  174.783448\n",
       "997          Waikato    New Zealand -37.768188  175.276060\n",
       "998         Tasmania      Australia -42.016550  147.352620\n",
       "999  Chatham Islands    New Zealand -44.021665 -176.474764\n",
       "\n",
       "[900 rows x 4 columns]"
      ]
     },
     "execution_count": 7,
     "metadata": {},
     "output_type": "execute_result"
    }
   ],
   "source": [
    "land_points = ss.iloc[idx[:, 0]]\n",
    "lons = [ew_point.coords.xy[0][0] for ipt, ew_point in enumerate(land_points)]\n",
    "lats = [ew_point.coords.xy[1][0] for ipt, ew_point in enumerate(land_points)]\n",
    "\n",
    "df_land_points = df_new[['State', 'Country']].iloc[idx[:, 1]]\n",
    "df_land_points['latitude']  = lats\n",
    "df_land_points['longitude'] = lons\n",
    "\n",
    "df_land_points.index = idx[:, 0]\n",
    "df_land_points"
   ]
  },
  {
   "cell_type": "markdown",
   "id": "19c557ba",
   "metadata": {},
   "source": [
    "## Summary\n",
    "\n",
    "By comparing the speed of points in polygons (PIPs), it can be found that the method of ***RTree*** is much faster than that of ***STRTree***. Therefore, the STRTree is further applied to develop our PIPs web API with FastAPI.\n",
    "\n",
    "## Refernces and resources\n",
    "\n",
    "https://fastapi.tiangolo.com/\n",
    "\n",
    "https://geopandas.org/en/stable/\n",
    "\n",
    "https://shapely.readthedocs.io/en/stable/manual.html\n",
    "\n",
    "https://pygeos.readthedocs.io/en/stable/"
   ]
  },
  {
   "cell_type": "code",
   "execution_count": null,
   "id": "64796fc6",
   "metadata": {},
   "outputs": [],
   "source": []
  }
 ],
 "metadata": {
  "kernelspec": {
   "display_name": "Python 3 (ipykernel)",
   "language": "python",
   "name": "python3"
  },
  "language_info": {
   "codemirror_mode": {
    "name": "ipython",
    "version": 3
   },
   "file_extension": ".py",
   "mimetype": "text/x-python",
   "name": "python",
   "nbconvert_exporter": "python",
   "pygments_lexer": "ipython3",
   "version": "3.8.13"
  }
 },
 "nbformat": 4,
 "nbformat_minor": 5
}
